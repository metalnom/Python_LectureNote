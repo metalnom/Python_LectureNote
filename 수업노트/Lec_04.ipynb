{
 "cells": [
  {
   "cell_type": "code",
   "execution_count": 1,
   "metadata": {},
   "outputs": [],
   "source": [
    "menu = {1:'한식', 2:'중식', 3:'양식'}"
   ]
  },
  {
   "cell_type": "code",
   "execution_count": 2,
   "metadata": {},
   "outputs": [],
   "source": [
    "menu_c = {'짜장면':6000, '짬뽕':8000, '탕수육':12000}"
   ]
  },
  {
   "cell_type": "code",
   "execution_count": 3,
   "metadata": {},
   "outputs": [
    {
     "name": "stdout",
     "output_type": "stream",
     "text": [
      "양식\n"
     ]
    }
   ],
   "source": [
    "print(menu[3])"
   ]
  },
  {
   "cell_type": "code",
   "execution_count": 4,
   "metadata": {},
   "outputs": [
    {
     "name": "stdout",
     "output_type": "stream",
     "text": [
      "8000\n"
     ]
    }
   ],
   "source": [
    "print(menu_c['짬뽕'])"
   ]
  },
  {
   "cell_type": "code",
   "execution_count": 5,
   "metadata": {},
   "outputs": [
    {
     "ename": "KeyError",
     "evalue": "'울면'",
     "output_type": "error",
     "traceback": [
      "\u001b[1;31m---------------------------------------------------------------------------\u001b[0m",
      "\u001b[1;31mKeyError\u001b[0m                                  Traceback (most recent call last)",
      "\u001b[1;32m<ipython-input-5-a3ef29641aae>\u001b[0m in \u001b[0;36m<module>\u001b[1;34m\u001b[0m\n\u001b[1;32m----> 1\u001b[1;33m \u001b[0mprint\u001b[0m\u001b[1;33m(\u001b[0m\u001b[0mmenu_c\u001b[0m\u001b[1;33m[\u001b[0m\u001b[1;34m'울면'\u001b[0m\u001b[1;33m]\u001b[0m\u001b[1;33m)\u001b[0m\u001b[1;33m\u001b[0m\u001b[1;33m\u001b[0m\u001b[0m\n\u001b[0m",
      "\u001b[1;31mKeyError\u001b[0m: '울면'"
     ]
    }
   ],
   "source": [
    "print(menu_c['울면'])"
   ]
  },
  {
   "cell_type": "code",
   "execution_count": 6,
   "metadata": {},
   "outputs": [
    {
     "name": "stdout",
     "output_type": "stream",
     "text": [
      "None\n"
     ]
    }
   ],
   "source": [
    "print(menu_c.get('울면'))"
   ]
  },
  {
   "cell_type": "code",
   "execution_count": 7,
   "metadata": {},
   "outputs": [],
   "source": [
    "menu_kp = {'한식':{'된장찌개':5000, '김치찌개':6000, '비빔밥':8000}}"
   ]
  },
  {
   "cell_type": "code",
   "execution_count": 8,
   "metadata": {},
   "outputs": [
    {
     "data": {
      "text/plain": [
       "6000"
      ]
     },
     "execution_count": 8,
     "metadata": {},
     "output_type": "execute_result"
    }
   ],
   "source": [
    "menu_kp.get('한식').get('김치찌개')"
   ]
  },
  {
   "cell_type": "code",
   "execution_count": 9,
   "metadata": {},
   "outputs": [
    {
     "data": {
      "text/plain": [
       "{'된장찌개': 5000, '김치찌개': 6000, '비빔밥': 8000}"
      ]
     },
     "execution_count": 9,
     "metadata": {},
     "output_type": "execute_result"
    }
   ],
   "source": [
    "menu_kp.get('한식')"
   ]
  },
  {
   "cell_type": "code",
   "execution_count": 10,
   "metadata": {},
   "outputs": [
    {
     "name": "stdout",
     "output_type": "stream",
     "text": [
      "dict_keys(['짜장면', '짬뽕', '탕수육'])\n"
     ]
    }
   ],
   "source": [
    "print(menu_c.keys())"
   ]
  },
  {
   "cell_type": "code",
   "execution_count": 11,
   "metadata": {},
   "outputs": [
    {
     "name": "stdout",
     "output_type": "stream",
     "text": [
      "dict_values([6000, 8000, 12000])\n"
     ]
    }
   ],
   "source": [
    "print(menu_c.values())"
   ]
  },
  {
   "cell_type": "code",
   "execution_count": 12,
   "metadata": {},
   "outputs": [
    {
     "name": "stdout",
     "output_type": "stream",
     "text": [
      "dict_items([('짜장면', 6000), ('짬뽕', 8000), ('탕수육', 12000)])\n"
     ]
    }
   ],
   "source": [
    "print(menu_c.items())"
   ]
  },
  {
   "cell_type": "code",
   "execution_count": 20,
   "metadata": {},
   "outputs": [],
   "source": [
    "def calc(a, b):\n",
    "    sum = a + b\n",
    "    mul = a * b\n",
    "    sub = a - b\n",
    "    if b == 0:\n",
    "        print('0으로 나눌수 없습니다.')\n",
    "        div = 0\n",
    "    else:\n",
    "        div = a / b\n",
    "    \n",
    "    return sum, mul, sub, div"
   ]
  },
  {
   "cell_type": "code",
   "execution_count": 23,
   "metadata": {},
   "outputs": [],
   "source": [
    "sum_ab, mul_ab, sub_ab, div_ab = calc(4, 2)"
   ]
  },
  {
   "cell_type": "code",
   "execution_count": 24,
   "metadata": {},
   "outputs": [
    {
     "name": "stdout",
     "output_type": "stream",
     "text": [
      "6\n",
      "8\n",
      "2\n",
      "2.0\n"
     ]
    }
   ],
   "source": [
    "print(sum_ab)\n",
    "print(mul_ab)\n",
    "print(sub_ab)\n",
    "print(div_ab)"
   ]
  },
  {
   "cell_type": "code",
   "execution_count": 28,
   "metadata": {},
   "outputs": [
    {
     "name": "stdout",
     "output_type": "stream",
     "text": [
      "1\n",
      "2\n",
      "3\n",
      "5\n",
      "6\n",
      "8\n",
      "10\n"
     ]
    }
   ],
   "source": [
    "for i in [1,2,3,5,6,8,10]:\n",
    "    print(i)"
   ]
  },
  {
   "cell_type": "code",
   "execution_count": 26,
   "metadata": {},
   "outputs": [
    {
     "name": "stdout",
     "output_type": "stream",
     "text": [
      "range(0, 20, 2)\n"
     ]
    }
   ],
   "source": [
    "print(range(0, 20, 2))"
   ]
  },
  {
   "cell_type": "code",
   "execution_count": 27,
   "metadata": {},
   "outputs": [
    {
     "data": {
      "text/plain": [
       "range(0, 20, 2)"
      ]
     },
     "execution_count": 27,
     "metadata": {},
     "output_type": "execute_result"
    }
   ],
   "source": [
    "range(0, 20, 2)"
   ]
  },
  {
   "cell_type": "code",
   "execution_count": 29,
   "metadata": {},
   "outputs": [
    {
     "data": {
      "text/plain": [
       "['__class__',\n",
       " '__contains__',\n",
       " '__delattr__',\n",
       " '__delitem__',\n",
       " '__dir__',\n",
       " '__doc__',\n",
       " '__eq__',\n",
       " '__format__',\n",
       " '__ge__',\n",
       " '__getattribute__',\n",
       " '__getitem__',\n",
       " '__gt__',\n",
       " '__hash__',\n",
       " '__init__',\n",
       " '__init_subclass__',\n",
       " '__iter__',\n",
       " '__le__',\n",
       " '__len__',\n",
       " '__lt__',\n",
       " '__ne__',\n",
       " '__new__',\n",
       " '__reduce__',\n",
       " '__reduce_ex__',\n",
       " '__repr__',\n",
       " '__setattr__',\n",
       " '__setitem__',\n",
       " '__sizeof__',\n",
       " '__str__',\n",
       " '__subclasshook__',\n",
       " 'clear',\n",
       " 'copy',\n",
       " 'fromkeys',\n",
       " 'get',\n",
       " 'items',\n",
       " 'keys',\n",
       " 'pop',\n",
       " 'popitem',\n",
       " 'setdefault',\n",
       " 'update',\n",
       " 'values']"
      ]
     },
     "execution_count": 29,
     "metadata": {},
     "output_type": "execute_result"
    }
   ],
   "source": [
    "dir(menu)"
   ]
  },
  {
   "cell_type": "code",
   "execution_count": 30,
   "metadata": {},
   "outputs": [
    {
     "name": "stdout",
     "output_type": "stream",
     "text": [
      "KEY : 1\tVALUE : 한식\n",
      "KEY : 2\tVALUE : 중식\n",
      "KEY : 3\tVALUE : 양식\n"
     ]
    }
   ],
   "source": [
    "for k, v in menu.items():\n",
    "    print(\"KEY : {}\".format(k), end='\\t')\n",
    "    print(\"VALUE : {}\".format(v))"
   ]
  },
  {
   "cell_type": "code",
   "execution_count": 33,
   "metadata": {},
   "outputs": [],
   "source": [
    "def main_menu():\n",
    "    print('===== 메뉴 ===')\n",
    "    for k,v in menu.items():\n",
    "        print('{} : '.format(k), end='\\t')\n",
    "        print('{}'.format(v))\n",
    "    print('==============')"
   ]
  },
  {
   "cell_type": "code",
   "execution_count": 34,
   "metadata": {},
   "outputs": [
    {
     "name": "stdout",
     "output_type": "stream",
     "text": [
      "===== 메뉴 ===\n",
      "1 : \t한식\n",
      "2 : \t중식\n",
      "3 : \t양식\n",
      "==============\n"
     ]
    }
   ],
   "source": [
    "main_menu()"
   ]
  },
  {
   "cell_type": "code",
   "execution_count": 35,
   "metadata": {},
   "outputs": [],
   "source": [
    "menu.update({4:'이딸리안'})"
   ]
  },
  {
   "cell_type": "code",
   "execution_count": 36,
   "metadata": {},
   "outputs": [
    {
     "name": "stdout",
     "output_type": "stream",
     "text": [
      "===== 메뉴 ===\n",
      "1 : \t한식\n",
      "2 : \t중식\n",
      "3 : \t양식\n",
      "4 : \t이딸리안\n",
      "==============\n"
     ]
    }
   ],
   "source": [
    "main_menu()"
   ]
  },
  {
   "cell_type": "code",
   "execution_count": 37,
   "metadata": {},
   "outputs": [
    {
     "name": "stdout",
     "output_type": "stream",
     "text": [
      "=====2단=====\n",
      "2 X 1 = 2\n",
      "2 X 2 = 4\n",
      "2 X 3 = 6\n",
      "2 X 4 = 8\n",
      "2 X 5 = 10\n",
      "2 X 6 = 12\n",
      "2 X 7 = 14\n",
      "2 X 8 = 16\n",
      "2 X 9 = 18\n",
      "\n",
      "=====3단=====\n",
      "3 X 1 = 3\n",
      "3 X 2 = 6\n",
      "3 X 3 = 9\n",
      "3 X 4 = 12\n",
      "3 X 5 = 15\n",
      "3 X 6 = 18\n",
      "3 X 7 = 21\n",
      "3 X 8 = 24\n",
      "3 X 9 = 27\n",
      "\n",
      "=====4단=====\n",
      "4 X 1 = 4\n",
      "4 X 2 = 8\n",
      "4 X 3 = 12\n",
      "4 X 4 = 16\n",
      "4 X 5 = 20\n",
      "4 X 6 = 24\n",
      "4 X 7 = 28\n",
      "4 X 8 = 32\n",
      "4 X 9 = 36\n",
      "\n",
      "=====5단=====\n",
      "5 X 1 = 5\n",
      "5 X 2 = 10\n",
      "5 X 3 = 15\n",
      "5 X 4 = 20\n",
      "5 X 5 = 25\n",
      "5 X 6 = 30\n",
      "5 X 7 = 35\n",
      "5 X 8 = 40\n",
      "5 X 9 = 45\n",
      "\n",
      "=====6단=====\n",
      "6 X 1 = 6\n",
      "6 X 2 = 12\n",
      "6 X 3 = 18\n",
      "6 X 4 = 24\n",
      "6 X 5 = 30\n",
      "6 X 6 = 36\n",
      "6 X 7 = 42\n",
      "6 X 8 = 48\n",
      "6 X 9 = 54\n",
      "\n",
      "=====7단=====\n",
      "7 X 1 = 7\n",
      "7 X 2 = 14\n",
      "7 X 3 = 21\n",
      "7 X 4 = 28\n",
      "7 X 5 = 35\n",
      "7 X 6 = 42\n",
      "7 X 7 = 49\n",
      "7 X 8 = 56\n",
      "7 X 9 = 63\n",
      "\n",
      "=====8단=====\n",
      "8 X 1 = 8\n",
      "8 X 2 = 16\n",
      "8 X 3 = 24\n",
      "8 X 4 = 32\n",
      "8 X 5 = 40\n",
      "8 X 6 = 48\n",
      "8 X 7 = 56\n",
      "8 X 8 = 64\n",
      "8 X 9 = 72\n",
      "\n",
      "=====9단=====\n",
      "9 X 1 = 9\n",
      "9 X 2 = 18\n",
      "9 X 3 = 27\n",
      "9 X 4 = 36\n",
      "9 X 5 = 45\n",
      "9 X 6 = 54\n",
      "9 X 7 = 63\n",
      "9 X 8 = 72\n",
      "9 X 9 = 81\n",
      "\n"
     ]
    }
   ],
   "source": [
    "for i in range(2, 10):\n",
    "    print('====={}단====='.format(i))\n",
    "    for j in range(1, 10):\n",
    "        print('{} X {} = {}'.format(i, j, i*j))\n",
    "    print()"
   ]
  },
  {
   "cell_type": "code",
   "execution_count": 47,
   "metadata": {},
   "outputs": [
    {
     "name": "stdout",
     "output_type": "stream",
     "text": [
      "<2단>\t\t<3단>\t\t<4단>\t\t<5단>\t\t<6단>\t\t<7단>\t\t<8단>\t\t<9단>\t\t\n",
      "2 X 1 =  2 \t3 X 1 =  3 \t4 X 1 =  4 \t5 X 1 =  5 \t6 X 1 =  6 \t7 X 1 =  7 \t8 X 1 =  8 \t9 X 1 =  9 \t\n",
      "2 X 2 =  4 \t3 X 2 =  6 \t4 X 2 =  8 \t5 X 2 = 10 \t6 X 2 = 12 \t7 X 2 = 14 \t8 X 2 = 16 \t9 X 2 = 18 \t\n",
      "2 X 3 =  6 \t3 X 3 =  9 \t4 X 3 = 12 \t5 X 3 = 15 \t6 X 3 = 18 \t7 X 3 = 21 \t8 X 3 = 24 \t9 X 3 = 27 \t\n",
      "2 X 4 =  8 \t3 X 4 = 12 \t4 X 4 = 16 \t5 X 4 = 20 \t6 X 4 = 24 \t7 X 4 = 28 \t8 X 4 = 32 \t9 X 4 = 36 \t\n",
      "2 X 5 = 10 \t3 X 5 = 15 \t4 X 5 = 20 \t5 X 5 = 25 \t6 X 5 = 30 \t7 X 5 = 35 \t8 X 5 = 40 \t9 X 5 = 45 \t\n",
      "2 X 6 = 12 \t3 X 6 = 18 \t4 X 6 = 24 \t5 X 6 = 30 \t6 X 6 = 36 \t7 X 6 = 42 \t8 X 6 = 48 \t9 X 6 = 54 \t\n",
      "2 X 7 = 14 \t3 X 7 = 21 \t4 X 7 = 28 \t5 X 7 = 35 \t6 X 7 = 42 \t7 X 7 = 49 \t8 X 7 = 56 \t9 X 7 = 63 \t\n",
      "2 X 8 = 16 \t3 X 8 = 24 \t4 X 8 = 32 \t5 X 8 = 40 \t6 X 8 = 48 \t7 X 8 = 56 \t8 X 8 = 64 \t9 X 8 = 72 \t\n",
      "2 X 9 = 18 \t3 X 9 = 27 \t4 X 9 = 36 \t5 X 9 = 45 \t6 X 9 = 54 \t7 X 9 = 63 \t8 X 9 = 72 \t9 X 9 = 81 \t\n"
     ]
    }
   ],
   "source": [
    "for i in range(2, 10):\n",
    "    print('<{}단>'.format(i), end='\\t\\t')\n",
    "print()\n",
    "for i in range(1, 10):\n",
    "    for j in range(2, 10):\n",
    "        print('{} X {} = {:2} '.format(j, i, j*i), end='\\t')\n",
    "    print()"
   ]
  },
  {
   "cell_type": "code",
   "execution_count": 48,
   "metadata": {},
   "outputs": [],
   "source": [
    "price = [5000, 6000, 3000, 7000]"
   ]
  },
  {
   "cell_type": "code",
   "execution_count": 54,
   "metadata": {},
   "outputs": [
    {
     "name": "stdout",
     "output_type": "stream",
     "text": [
      "총   금액 : 21000\n",
      "평균 금액 : 5250.0\n"
     ]
    }
   ],
   "source": [
    "sum = 0\n",
    "\n",
    "for ea in price:\n",
    "    sum += ea\n",
    "    \n",
    "print('총   금액 : {}'.format(sum))\n",
    "print('평균 금액 : {}'.format(sum / len(price)))"
   ]
  },
  {
   "cell_type": "code",
   "execution_count": 55,
   "metadata": {},
   "outputs": [
    {
     "name": "stdout",
     "output_type": "stream",
     "text": [
      "4\n"
     ]
    }
   ],
   "source": [
    "print(len(price))"
   ]
  },
  {
   "cell_type": "code",
   "execution_count": null,
   "metadata": {},
   "outputs": [],
   "source": []
  }
 ],
 "metadata": {
  "kernelspec": {
   "display_name": "Python 3",
   "language": "python",
   "name": "python3"
  },
  "language_info": {
   "codemirror_mode": {
    "name": "ipython",
    "version": 3
   },
   "file_extension": ".py",
   "mimetype": "text/x-python",
   "name": "python",
   "nbconvert_exporter": "python",
   "pygments_lexer": "ipython3",
   "version": "3.7.6"
  }
 },
 "nbformat": 4,
 "nbformat_minor": 4
}
